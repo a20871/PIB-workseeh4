{
 "cells": [
  {
   "cell_type": "markdown",
   "metadata": {},
   "source": [
    "# Worksheet 4 - Mathematical morphology (TPI.3)"
   ]
  },
  {
   "cell_type": "markdown",
   "metadata": {},
   "source": [
    "#### Notes:\n",
    "- The purpose of this worksheet is to implement the concepts learned in the Biomedical Image Processing - Mathematical morphology \n",
    "- The resolution of the exercises of this practical work must be sent by email with the name \"PIB_GroupNumber_TPI.3\"\n",
    "- The images to be used are available in the curricular unit's moodle - \"Worksheet images\""
   ]
  },
  {
   "cell_type": "code",
   "execution_count": null,
   "metadata": {},
   "outputs": [],
   "source": [
    "# command to allow the display of image and plots in the notebook\n",
    "%pylab inline\n",
    "import skimage.morphology as mf\n",
    "from scipy import ndimage as nd\n",
    "from skimage.measure import label, regionprops"
   ]
  },
  {
   "cell_type": "markdown",
   "metadata": {},
   "source": [
    "**Question 1**: Read and visualize the \"BinaryImg.png\" image and its processed version \"BinaryImg_processed.png\". You must view the images side by side (horizontally)"
   ]
  },
  {
   "cell_type": "code",
   "execution_count": null,
   "metadata": {},
   "outputs": [],
   "source": [
    "bin_img=imread('BinaryImg.png')\n",
    "bin_img_processed=imread('BinaryImg_processed.png')"
   ]
  },
  {
   "cell_type": "code",
   "execution_count": null,
   "metadata": {},
   "outputs": [],
   "source": [
    "fig, (img1, img2)=matplotlib.pylab.subplots(1,2,figsize=(14,10))\n",
    "\n",
    "gray()\n",
    "img1.imshow(bin_img)\n",
    "img1.title.set_text('1.1-Binary Image')\n",
    "img2.imshow(bin_img_processed)\n",
    "img2.title.set_text('1.2-Binary Image Processed')"
   ]
  },
  {
   "cell_type": "markdown",
   "metadata": {},
   "source": [
    "**Question 2**: Use the concepts of mathematical morphology to obtain the image \"BinaryImg_processed.png\" from the image \"\"BinaryImg_processed\"."
   ]
  },
  {
   "cell_type": "code",
   "execution_count": null,
   "metadata": {},
   "outputs": [],
   "source": [
    "#definição de kernel que permita eliminar o traço preto vertical e mantenha o traço branco horizontal\n",
    "k=np.array(([0,0,0],[1,1,1],[0,0,0]))\n",
    "\n",
    "#opening - eliminação de ruído\n",
    "img1=mf.binary_opening(bin_img, footprint=k)\n",
    "\n",
    "#closing - aliminação de traço preto\n",
    "img2=mf.binary_closing(img1, footprint=k)\n",
    "\n",
    "#imagem final\n",
    "imshow(img2)\n",
    "\n",
    "#Confirmação da inexistência de diferenças entre a imagem obtida e a imagem proposta\n",
    "n= np.subtract(img2,bin_img_processed)\n",
    "a=sum(n)\n",
    "print(a)\n",
    "\n"
   ]
  },
  {
   "cell_type": "markdown",
   "metadata": {},
   "source": [
    "**Question 3**: Read and visualize the \"head.png\" and \"head_gaussian_noise.png\". You must view the images side by side (horizontally)"
   ]
  },
  {
   "cell_type": "code",
   "execution_count": null,
   "metadata": {},
   "outputs": [],
   "source": [
    "head=imread('head.png')\n",
    "head_gaussian_noise=imread('head_gaussian_noise.png')"
   ]
  },
  {
   "cell_type": "code",
   "execution_count": null,
   "metadata": {},
   "outputs": [],
   "source": [
    "fig, (img1, img2)=matplotlib.pylab.subplots(1,2,figsize=(14,10))\n",
    "\n",
    "img1.imshow(head)\n",
    "img1.title.set_text('1.1-Head Original')\n",
    "img2.imshow(head_gaussian_noise)\n",
    "img2.title.set_text('1.2-Head Gaussian Noise')"
   ]
  },
  {
   "cell_type": "markdown",
   "metadata": {},
   "source": [
    "**Question 4**: Smooth the images using mathematical morphology. Analyze the resulting opening and closing images, as well as the final image. Try different kernel sizes for a disk structuring element."
   ]
  },
  {
   "cell_type": "code",
   "execution_count": null,
   "metadata": {},
   "outputs": [],
   "source": [
    "h_opening_r1=mf.opening(head,footprint=(mf.disk(1)))\n",
    "h_closing_r1=mf.closing(h_opening_r1,footprint=(mf.disk(1)))\n",
    "\n",
    "h_opening_r2=mf.opening(head,footprint=(mf.disk(2)))\n",
    "h_closing_r2=mf.closing(h_opening_r2,footprint=(mf.disk(2)))\n",
    "\n",
    "\n",
    "h_opening_r4=mf.opening(head,footprint=(mf.disk(4)))\n",
    "h_closing_r4=mf.closing(h_opening_r4,footprint=(mf.disk(4)))\n",
    "\n",
    "\n",
    "# É para usar elemento estruturante disco, só muda tamanho\n",
    "# Fazer opening e a seguir closing"
   ]
  },
  {
   "cell_type": "code",
   "execution_count": null,
   "metadata": {
    "scrolled": false
   },
   "outputs": [],
   "source": [
    "fig, ((img1, img2, img3),(img4, img5,img6),(img7, img8,img9))=matplotlib.pylab.subplots(3,3,figsize=(14,14))\n",
    "\n",
    "img1.imshow(head)\n",
    "img1.title.set_text('4.1-Head Original')\n",
    "img2.imshow(h_opening_r1)\n",
    "img2.title.set_text('4.2-Head Opening | disk-1')\n",
    "img3.imshow(h_closing_r1)\n",
    "img3.title.set_text('4.3-Head opening - closing | disk-1')\n",
    "img4.imshow(head)\n",
    "img4.title.set_text('4.4-Head Original')\n",
    "img5.imshow(h_opening_r2)\n",
    "img5.title.set_text('4.5-Head Opening | disk-2')\n",
    "img6.imshow(h_closing_r2)\n",
    "img6.title.set_text('4.6-Head opening - closing | disk-2')\n",
    "img7.imshow(head)\n",
    "img7.title.set_text('4.7-Head Original')\n",
    "img8.imshow(h_opening_r4)\n",
    "img8.title.set_text('4.8-Head Opening | disk-4')\n",
    "img9.imshow(h_closing_r4)\n",
    "img9.title.set_text('4.9-Head opening - closing | disk-4')"
   ]
  },
  {
   "cell_type": "markdown",
   "metadata": {},
   "source": [
    "**Conclusão** Verifica-se que o resultado de Abertura e Fecho efetua um 'smoothing' à imagem inicial. A variação do tamanho do elemento estruturante provoca um smoothing mais acentuado, quando maior o elemento estruturante. Na imagem 4.9, com um elemento estruturante disco de tamanho 4, verifica-se que a imagem sofreu um smoothing acentuado e perde definição."
   ]
  },
  {
   "cell_type": "code",
   "execution_count": null,
   "metadata": {},
   "outputs": [],
   "source": [
    "h_opening_r1g=mf.opening(head_gaussian_noise,footprint=(mf.disk(1)))\n",
    "h_closing_r1fg=mf.closing(h_opening_r1g,footprint=(mf.disk(1)))\n",
    "\n",
    "h_opening_r2g=mf.opening(head_gaussian_noise,footprint=(mf.disk(2)))\n",
    "h_closing_r2fg=mf.closing(h_opening_r2g,footprint=(mf.disk(2)))\n",
    "\n",
    "h_opening_r4g=mf.opening(head_gaussian_noise,footprint=(mf.disk(4)))\n",
    "h_closing_r4fg=mf.closing(h_opening_r4g,footprint=(mf.disk(4)))"
   ]
  },
  {
   "cell_type": "code",
   "execution_count": null,
   "metadata": {},
   "outputs": [],
   "source": [
    "fig, ((img1, img2,img3),(img4, img5,img6),(img7, img8,img9))=matplotlib.pylab.subplots(3,3,figsize=(12,14))\n",
    "\n",
    "img1.imshow(head_gaussian_noise)\n",
    "img1.title.set_text('4.10-Head Gaussian Original')\n",
    "img2.imshow(h_opening_r1g)\n",
    "img2.title.set_text('4.11-Head G Opening | disk-1')\n",
    "img3.imshow(h_closing_r1fg)\n",
    "img3.title.set_text('4.12-Head G opening - closing | disk-1')\n",
    "img4.imshow(head_gaussian_noise)\n",
    "img4.title.set_text('4.13-Head Gaussian Noise')\n",
    "img5.imshow(h_opening_r2g)\n",
    "img5.title.set_text('4.14-Head G Opening | disk-2')\n",
    "img6.imshow(h_closing_r2fg)\n",
    "img6.title.set_text('4.15-Head G opening - closing | disk-2')\n",
    "img7.imshow(head_gaussian_noise)\n",
    "img7.title.set_text('4.16-Head Gaussian Noise')\n",
    "img8.imshow(h_opening_r4g)\n",
    "img8.title.set_text('4.17-Head G Opening | disk-4')\n",
    "img9.imshow(h_closing_r4fg)\n",
    "img9.title.set_text('4.18-Head G opening - closing | disk-4')"
   ]
  },
  {
   "cell_type": "markdown",
   "metadata": {},
   "source": [
    "**Conclusão** Como a realização de um smoothing morfológico com Abertura e Fecho, verifica-se que há uma diminuição de ruído em relação à imagem inicial. A utilização de um elelemnto estruturante progressivamente maior traduziu-se numa suavização da imagem mais intensa. No caso de um elelemnto estruturante disco de tamanho 4, levou mesmo à perda de nitidez da imagem."
   ]
  },
  {
   "cell_type": "markdown",
   "metadata": {},
   "source": [
    "**Question 5**: Detect the image contours using mathematical morphology. Apply the edge detection method to the original image and the resulting smoothed image in question 4. Analyze the results."
   ]
  },
  {
   "cell_type": "code",
   "execution_count": null,
   "metadata": {},
   "outputs": [],
   "source": [
    "def edge_detection(img):\n",
    "    dil=mf.dilation(img, footprint=mf.disk(1))\n",
    "    ers=mf.erosion(img, footprint=mf.disk(1))\n",
    "    imT=np.subtract(dil,ers)\n",
    "    \n",
    "    return imT"
   ]
  },
  {
   "cell_type": "code",
   "execution_count": null,
   "metadata": {},
   "outputs": [],
   "source": [
    "imshow(edge_detection(h_closing_r2fg))"
   ]
  },
  {
   "cell_type": "markdown",
   "metadata": {},
   "source": [
    "**Conclusão** Através da aplicação de uma dilatação e erosão à imagem inicial é possível utilizar a diferença entre estes dois resultados para obter um contorno na imagem, ficando no final evidenciado (branco) a zona onde ocorreu a dilatação e erosão. Isto acontece porque a dilatação e erosão são aplicadas em zonas onde há uma diferença da intensidade na área do elemento estruturante, ficando inalteradas as restantes zonas."
   ]
  },
  {
   "cell_type": "markdown",
   "metadata": {},
   "source": [
    "**Question 6**: Read and visualize the \"kidney.png\" and its mask \"kidney_segmented.png\". You must view the images side by side (horizontally)"
   ]
  },
  {
   "cell_type": "code",
   "execution_count": null,
   "metadata": {},
   "outputs": [],
   "source": [
    "kidney=imread('kidney.png')\n",
    "k_segmented=imread('kidney_segmented.png')"
   ]
  },
  {
   "cell_type": "code",
   "execution_count": null,
   "metadata": {},
   "outputs": [],
   "source": [
    "fig, (img1, img2)=matplotlib.pylab.subplots(1,2,figsize=(14,10))\n",
    "\n",
    "gray()\n",
    "img1.imshow(kidney)\n",
    "img1.title.set_text('6.1-Kidney')\n",
    "img2.imshow(k_segmented)\n",
    "img2.title.set_text('6.2-Kidney segmented')"
   ]
  },
  {
   "cell_type": "markdown",
   "metadata": {},
   "source": [
    "**Question 7**: Construct a pipeline to segment the kidneys in the image. \n",
    "- You should start by binarizing the image using an appropriate threshold \n",
    "- You should choose the threshold according to the intensity of the image and kidneys. To analyze the intensities, you need to compute the histogram of the image and kidney \n",
    "- The final step is to use mathematical morphology to obtain a kidney mask similar to the \"kidney_segmented.png\" image. "
   ]
  },
  {
   "cell_type": "code",
   "execution_count": null,
   "metadata": {},
   "outputs": [],
   "source": [
    "#1- utilizar o histograma com a mascara dos rins para verificar os valores a considerar.\n",
    "def histogram(img,img_mask):\n",
    "    \n",
    "    #get image l and c info\n",
    "    (l,c)=img.shape\n",
    "    \n",
    "    #Create array for histogram   \n",
    "    h=np.zeros(256)\n",
    "    \n",
    "    #Iterate de image\n",
    "    for i in range(l):\n",
    "        for j in range(c):\n",
    "            #see if it is in area of interest (white(255))\n",
    "            if img_mask[i,j]==True:\n",
    "                #get index\n",
    "                value=img[i,j]\n",
    "                #increment in index\n",
    "                h[value]=h[value]+1\n",
    "    \n",
    "    return h\n"
   ]
  },
  {
   "cell_type": "code",
   "execution_count": null,
   "metadata": {},
   "outputs": [],
   "source": [
    "print(k_segmented.dtype)\n",
    "\n",
    "#-Convert images to uint8\n",
    "kidney8=np.round(kidney*255).astype(np.uint8)\n",
    "k_segmented8=np.round(k_segmented*255).astype(np.bool_)\n",
    "print(k_segmented8.dtype)\n",
    "\n",
    "#Histogram using proposed mask\n",
    "h=histogram(kidney8, k_segmented8)\n"
   ]
  },
  {
   "cell_type": "code",
   "execution_count": null,
   "metadata": {},
   "outputs": [],
   "source": [
    "im0=plot(histogram(kidney8, k_segmented8))\n"
   ]
  },
  {
   "cell_type": "markdown",
   "metadata": {},
   "source": [
    "**A -** Com base na análise do histograma, verifica-se há uma predominância de intensidades acima do valor 170. Decidiu-se utilizar este valor como treshold inicial e aumentar progressivamente, procurando o melhor resultado final"
   ]
  },
  {
   "cell_type": "code",
   "execution_count": null,
   "metadata": {},
   "outputs": [],
   "source": [
    "#convert image to bin, using 'tr' treshold value\n",
    "def img_to_bin(img, tr):\n",
    "    (w,h)=img.shape\n",
    "    \n",
    "    imgBin=np.full((w,h),0)\n",
    "    for i in range(w):\n",
    "        for j in range(h):\n",
    "            if img[i,j]>tr:\n",
    "                imgBin[i,j]=1\n",
    "    \n",
    "    return imgBin"
   ]
  },
  {
   "cell_type": "code",
   "execution_count": null,
   "metadata": {},
   "outputs": [],
   "source": [
    "img_170=img_to_bin(kidney8,170)\n",
    "img_180=img_to_bin(kidney8,180)\n",
    "img_195=img_to_bin(kidney8,195)\n",
    "img_205=img_to_bin(kidney8,205)"
   ]
  },
  {
   "cell_type": "code",
   "execution_count": null,
   "metadata": {},
   "outputs": [],
   "source": [
    "fig, ((img1, img2), (img3,img4))=matplotlib.pylab.subplots(2,2,figsize=(14,8))\n",
    "\n",
    "img1.imshow(img_170)\n",
    "img1.title.set_text('7.1-Treshold 170')\n",
    "img2.imshow(img_180)\n",
    "img2.title.set_text('7.2-Treshold 180')\n",
    "img3.imshow(img_195)\n",
    "img3.title.set_text('7.3-Treshold 195')\n",
    "img4.imshow(img_205)\n",
    "img4.title.set_text('7.4-Treshold 205')"
   ]
  },
  {
   "cell_type": "markdown",
   "metadata": {},
   "source": [
    "**B -** Pelas imagens obtidas entendeu-se que a imagem 7.3 com o treshold 195 seria a que estava mais próxima do objetivo, sendo possível realizar operações de morfologia matemática para aproximar a imagem do resultado esperado."
   ]
  },
  {
   "cell_type": "code",
   "execution_count": null,
   "metadata": {},
   "outputs": [],
   "source": [
    "#Opening with large structuring element to eliminate small white dots in the upper side\n",
    "a1=mf.opening((img_195), footprint=mf.disk(9))\n",
    "imshow(a1)"
   ]
  },
  {
   "cell_type": "markdown",
   "metadata": {},
   "source": [
    "**C -** Efetuou-se uma Abertura com elemento estruturante  de valor 9 para eliminar os pontos na parte superior da imagem."
   ]
  },
  {
   "cell_type": "code",
   "execution_count": null,
   "metadata": {},
   "outputs": [],
   "source": [
    "#Dilation to close de right kidney\n",
    "a=mf.binary_dilation((a1), footprint=mf.disk(7))\n",
    "imshow(a)"
   ]
  },
  {
   "cell_type": "markdown",
   "metadata": {},
   "source": [
    "**D -** Efetuou-se uma dilatação para fechar a zona correspondete ao rim à direita Após várias tentativas optou-se pelo elemento estruturante de valor 7,uma vez que era o valor que permitia uma imagem mais aproximada à imagem final."
   ]
  },
  {
   "cell_type": "code",
   "execution_count": null,
   "metadata": {},
   "outputs": [],
   "source": [
    "#fill black holes inside right kidney\n",
    "b=nd.binary_fill_holes(a).astype(int)"
   ]
  },
  {
   "cell_type": "code",
   "execution_count": null,
   "metadata": {},
   "outputs": [],
   "source": [
    "imshow(b)"
   ]
  },
  {
   "cell_type": "markdown",
   "metadata": {},
   "source": [
    "**E -** Preenchimento da zona preta no rim à direita."
   ]
  },
  {
   "cell_type": "code",
   "execution_count": null,
   "metadata": {},
   "outputs": [],
   "source": [
    "#comparar com a máscara\n",
    "\n",
    "dif=np.sum(k_segmented!=b)\n",
    "print(dif)"
   ]
  },
  {
   "cell_type": "code",
   "execution_count": null,
   "metadata": {},
   "outputs": [],
   "source": [
    "imshow(k_segmented!=b)"
   ]
  },
  {
   "cell_type": "markdown",
   "metadata": {},
   "source": [
    "**F -** Compação entre a imagem obtida e o objetivo. A diferença inicial traduziu-se numa diferença de 5227 pixeis. Optou-se por melhorar este resultado através do método de erosão, de forma a reduzir a área da imagem obtida"
   ]
  },
  {
   "cell_type": "code",
   "execution_count": null,
   "metadata": {},
   "outputs": [],
   "source": [
    "#Erosion to achieve a smaller area\n",
    "final1=mf.binary_erosion((b), footprint=mf.disk(6))\n",
    "imshow(k_segmented!=final1)"
   ]
  },
  {
   "cell_type": "code",
   "execution_count": null,
   "metadata": {},
   "outputs": [],
   "source": [
    "dif=np.sum(k_segmented!=final1)\n",
    "print(dif)"
   ]
  },
  {
   "cell_type": "markdown",
   "metadata": {},
   "source": [
    "**Conclusão** Foram efetuados vários testes com erosão / dilatação da imagem obtida para aproximação do objectivo, no entanto, estes passos resultaram no menor valor de diferença entre a imagem trabalhada e a imagem alvo que se fixou em 1141 píxeis"
   ]
  },
  {
   "cell_type": "markdown",
   "metadata": {},
   "source": [
    "**EXTRA** Pré-processar a imagem na tentativa de obter melhor resultado final"
   ]
  },
  {
   "cell_type": "code",
   "execution_count": null,
   "metadata": {},
   "outputs": [],
   "source": [
    "#equalização\n",
    "def histogramEqualization(img,imgMask):\n",
    "    h = histogram(img,imgMask) # histogram\n",
    "    H = zeros(256) # cumulative histogram\n",
    "    \n",
    "    # cumulative histogram building\n",
    "    for a in range(h.size):\n",
    "        H[a] = sum(h[0:a])\n",
    "    \n",
    "    (l,c) = img.shape\n",
    "    imgT = np.zeros((l,c),dtype='uint8') # new image\n",
    "    \n",
    "    tot_pixel_interest = np.count_nonzero(imgMask==1) #Mask\n",
    "    \n",
    "    for i in range(l):\n",
    "        for j in range(c):\n",
    "            if imgMask[i,j] == 1:\n",
    "                g=img[i,j]\n",
    "                #seting new intensity\n",
    "                imgT[i,j] = round(255/tot_pixel_interest*H[g])\n",
    "    return imgT"
   ]
  },
  {
   "cell_type": "code",
   "execution_count": null,
   "metadata": {},
   "outputs": [],
   "source": [
    "#Create a ones Mask to histogram\n",
    "(l,c)=kidney.shape\n",
    "onesMask=np.ones((l,c))"
   ]
  },
  {
   "cell_type": "code",
   "execution_count": null,
   "metadata": {},
   "outputs": [],
   "source": [
    "#Equalize image\n",
    "img_equalized=histogramEqualization(kidney8,onesMask)\n",
    "imshow(img_equalized)"
   ]
  },
  {
   "cell_type": "code",
   "execution_count": null,
   "metadata": {},
   "outputs": [],
   "source": [
    "#histogram of equalized image\n",
    "plot(histogram(img_equalized,k_segmented))"
   ]
  },
  {
   "cell_type": "code",
   "execution_count": null,
   "metadata": {},
   "outputs": [],
   "source": [
    "img_185=img_to_bin(kidney8,175)"
   ]
  },
  {
   "cell_type": "code",
   "execution_count": null,
   "metadata": {},
   "outputs": [],
   "source": [
    "imshow(img_185)"
   ]
  },
  {
   "cell_type": "code",
   "execution_count": null,
   "metadata": {},
   "outputs": [],
   "source": [
    "#Opening with struturing element 6\n",
    "img_200_op=mf.opening((img_185), footprint=mf.disk(6))\n",
    "imshow(img_200_op)"
   ]
  },
  {
   "cell_type": "code",
   "execution_count": null,
   "metadata": {},
   "outputs": [],
   "source": [
    "#Fill holes\n",
    "final2=nd.binary_fill_holes(img_200_op).astype(int)\n",
    "imshow(final2)"
   ]
  },
  {
   "cell_type": "code",
   "execution_count": null,
   "metadata": {},
   "outputs": [],
   "source": [
    "#labeling and regions\n",
    "label_img = label(final2)\n",
    "regions = regionprops(label_img)\n",
    "imshow(label_img)"
   ]
  },
  {
   "cell_type": "code",
   "execution_count": null,
   "metadata": {},
   "outputs": [],
   "source": [
    "#area distribution\n",
    "for props in regions:  \n",
    "    print(props.area)"
   ]
  },
  {
   "cell_type": "code",
   "execution_count": null,
   "metadata": {},
   "outputs": [],
   "source": []
  },
  {
   "cell_type": "code",
   "execution_count": null,
   "metadata": {},
   "outputs": [],
   "source": [
    "#ordere by size\n",
    "ordered = sorted(regions, key=lambda r: r.area,reverse=True,)\n",
    "for props in ordered:\n",
    "    print(props.area)"
   ]
  },
  {
   "cell_type": "code",
   "execution_count": null,
   "metadata": {},
   "outputs": [],
   "source": [
    "#remove regions with size under 10984 - second biggest in the beggining\n",
    "b = mf.remove_small_objects(label_img,10984)\n",
    "imshow(b)"
   ]
  },
  {
   "cell_type": "code",
   "execution_count": null,
   "metadata": {},
   "outputs": [],
   "source": [
    "#convert to binary\n",
    "c= np.round(b*255).astype(np.bool_)\n",
    "\n",
    "#calculate diferences\n",
    "dif=np.sum(k_segmented!=c)\n",
    "imshow(k_segmented!=c)\n",
    "print(dif)"
   ]
  },
  {
   "cell_type": "markdown",
   "metadata": {},
   "source": [
    "**Conclusão** A nova abordagem iniciou-se pela equalização da imagem.<br>\n",
    "Segundo o histograma da imagem equalizada, verifica-se que a área de interesse é preenchida por intensidades acima dos 230. Apesar disso, o valor de treshold que apresentou melhores resultados foi 175, embora tenham sido testados valores entre 230 e 175. <br>\n",
    "De seguida transformou-se a imagem em imagem binária e efetuou-se um opening com elemento estruturante de tamanho 6.<br>Preencheram-se também os espaços pretos dentro do espaço branco maior.\n",
    "Através de 'labeling' e 'regions' e posterior remoção das regiões com tamanho abaixo do segundo maior tamanho (10984), permanecem as 2 regiões maiores. O valor escolhido foi o primeiro valor obtido (-1) da segunda maior região inicial.\n",
    "O melhor valor obtido foi 155.\n",
    "Ainda se tentaram efetuar operações de erosão e dilatação mas sem melhores resultados."
   ]
  }
 ],
 "metadata": {
  "anaconda-cloud": {},
  "kernelspec": {
   "display_name": "Python 3 (ipykernel)",
   "language": "python",
   "name": "python3"
  },
  "language_info": {
   "codemirror_mode": {
    "name": "ipython",
    "version": 3
   },
   "file_extension": ".py",
   "mimetype": "text/x-python",
   "name": "python",
   "nbconvert_exporter": "python",
   "pygments_lexer": "ipython3",
   "version": "3.11.0"
  },
  "vscode": {
   "interpreter": {
    "hash": "c261aea317cc0286b3b3261fbba9abdec21eaa57589985bb7a274bf54d6cc0a7"
   }
  }
 },
 "nbformat": 4,
 "nbformat_minor": 1
}
